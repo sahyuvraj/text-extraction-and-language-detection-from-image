{
 "cells": [
  {
   "cell_type": "code",
   "execution_count": 1,
   "id": "21a7fd3b-ca67-4ddc-bb98-ddba78989269",
   "metadata": {},
   "outputs": [],
   "source": [
    "import pandas as pd\n",
    "from sklearn.model_selection import train_test_split"
   ]
  },
  {
   "cell_type": "code",
   "execution_count": 2,
   "id": "81fe9ea8-80e9-4e7b-9d96-8a837c27124e",
   "metadata": {},
   "outputs": [],
   "source": [
    "data = pd.read_csv(r\"C:\\Users\\hp\\Desktop\\jupyter\\nagamese_dataset.csv\")"
   ]
  },
  {
   "cell_type": "code",
   "execution_count": 3,
   "id": "059d8b28-f77c-4369-9498-950e66e6cf39",
   "metadata": {},
   "outputs": [
    {
     "data": {
      "text/html": [
       "<div>\n",
       "<style scoped>\n",
       "    .dataframe tbody tr th:only-of-type {\n",
       "        vertical-align: middle;\n",
       "    }\n",
       "\n",
       "    .dataframe tbody tr th {\n",
       "        vertical-align: top;\n",
       "    }\n",
       "\n",
       "    .dataframe thead th {\n",
       "        text-align: right;\n",
       "    }\n",
       "</style>\n",
       "<table border=\"1\" class=\"dataframe\">\n",
       "  <thead>\n",
       "    <tr style=\"text-align: right;\">\n",
       "      <th></th>\n",
       "      <th>Tom's packing.</th>\n",
       "      <th>tom packing kuri ase</th>\n",
       "    </tr>\n",
       "  </thead>\n",
       "  <tbody>\n",
       "    <tr>\n",
       "      <th>0</th>\n",
       "      <td>Tom's unarmed.</td>\n",
       "      <td>tom la haat dey eiku nai</td>\n",
       "    </tr>\n",
       "    <tr>\n",
       "      <th>1</th>\n",
       "      <td>Tom's violent.</td>\n",
       "      <td>tom bishi khussa oethe</td>\n",
       "    </tr>\n",
       "    <tr>\n",
       "      <th>2</th>\n",
       "      <td>Tom's working.</td>\n",
       "      <td>tom bishi kaam kure</td>\n",
       "    </tr>\n",
       "    <tr>\n",
       "      <th>3</th>\n",
       "      <td>Tom's wounded.</td>\n",
       "      <td>tom jokhom baina ase</td>\n",
       "    </tr>\n",
       "    <tr>\n",
       "      <th>4</th>\n",
       "      <td>Try to resist.</td>\n",
       "      <td>resist kurivole try kurivi</td>\n",
       "    </tr>\n",
       "    <tr>\n",
       "      <th>...</th>\n",
       "      <td>...</td>\n",
       "      <td>...</td>\n",
       "    </tr>\n",
       "    <tr>\n",
       "      <th>994</th>\n",
       "      <td>I'm very upset.</td>\n",
       "      <td>moi ekdam mon biya baina ase</td>\n",
       "    </tr>\n",
       "    <tr>\n",
       "      <th>995</th>\n",
       "      <td>I'm wide awake.</td>\n",
       "      <td>moi oethina ase</td>\n",
       "    </tr>\n",
       "    <tr>\n",
       "      <th>996</th>\n",
       "      <td>I've been busy.</td>\n",
       "      <td>moi kaam thakise</td>\n",
       "    </tr>\n",
       "    <tr>\n",
       "      <th>997</th>\n",
       "      <td>I've done that.</td>\n",
       "      <td>moi eitu kurise</td>\n",
       "    </tr>\n",
       "    <tr>\n",
       "      <th>998</th>\n",
       "      <td>I've forgotten.</td>\n",
       "      <td>moi bahorise</td>\n",
       "    </tr>\n",
       "  </tbody>\n",
       "</table>\n",
       "<p>999 rows × 2 columns</p>\n",
       "</div>"
      ],
      "text/plain": [
       "      Tom's packing.          tom packing kuri ase\n",
       "0     Tom's unarmed.      tom la haat dey eiku nai\n",
       "1     Tom's violent.        tom bishi khussa oethe\n",
       "2     Tom's working.           tom bishi kaam kure\n",
       "3     Tom's wounded.          tom jokhom baina ase\n",
       "4     Try to resist.    resist kurivole try kurivi\n",
       "..               ...                           ...\n",
       "994  I'm very upset.  moi ekdam mon biya baina ase\n",
       "995  I'm wide awake.               moi oethina ase\n",
       "996  I've been busy.              moi kaam thakise\n",
       "997  I've done that.               moi eitu kurise\n",
       "998  I've forgotten.                  moi bahorise\n",
       "\n",
       "[999 rows x 2 columns]"
      ]
     },
     "execution_count": 3,
     "metadata": {},
     "output_type": "execute_result"
    }
   ],
   "source": [
    "data"
   ]
  },
  {
   "cell_type": "code",
   "execution_count": 4,
   "id": "ebea1dba-d26b-40e5-8f35-f268ea399370",
   "metadata": {},
   "outputs": [
    {
     "data": {
      "text/plain": [
       "<bound method NDFrame.head of       Tom's packing.          tom packing kuri ase\n",
       "0     Tom's unarmed.      tom la haat dey eiku nai\n",
       "1     Tom's violent.        tom bishi khussa oethe\n",
       "2     Tom's working.           tom bishi kaam kure\n",
       "3     Tom's wounded.          tom jokhom baina ase\n",
       "4     Try to resist.    resist kurivole try kurivi\n",
       "..               ...                           ...\n",
       "994  I'm very upset.  moi ekdam mon biya baina ase\n",
       "995  I'm wide awake.               moi oethina ase\n",
       "996  I've been busy.              moi kaam thakise\n",
       "997  I've done that.               moi eitu kurise\n",
       "998  I've forgotten.                  moi bahorise\n",
       "\n",
       "[999 rows x 2 columns]>"
      ]
     },
     "execution_count": 4,
     "metadata": {},
     "output_type": "execute_result"
    }
   ],
   "source": [
    "data.head"
   ]
  },
  {
   "cell_type": "code",
   "execution_count": 5,
   "id": "e2b1b6ee-fd83-4a34-99db-9ff6d0a3706e",
   "metadata": {},
   "outputs": [],
   "source": [
    "data.columns = ['English', 'Nagamese']"
   ]
  },
  {
   "cell_type": "code",
   "execution_count": 6,
   "id": "8fc5aa89-87d2-4646-b35e-65f00b4199ac",
   "metadata": {},
   "outputs": [
    {
     "data": {
      "text/html": [
       "<div>\n",
       "<style scoped>\n",
       "    .dataframe tbody tr th:only-of-type {\n",
       "        vertical-align: middle;\n",
       "    }\n",
       "\n",
       "    .dataframe tbody tr th {\n",
       "        vertical-align: top;\n",
       "    }\n",
       "\n",
       "    .dataframe thead th {\n",
       "        text-align: right;\n",
       "    }\n",
       "</style>\n",
       "<table border=\"1\" class=\"dataframe\">\n",
       "  <thead>\n",
       "    <tr style=\"text-align: right;\">\n",
       "      <th></th>\n",
       "      <th>English</th>\n",
       "      <th>Nagamese</th>\n",
       "    </tr>\n",
       "  </thead>\n",
       "  <tbody>\n",
       "    <tr>\n",
       "      <th>0</th>\n",
       "      <td>Tom's unarmed.</td>\n",
       "      <td>tom la haat dey eiku nai</td>\n",
       "    </tr>\n",
       "    <tr>\n",
       "      <th>1</th>\n",
       "      <td>Tom's violent.</td>\n",
       "      <td>tom bishi khussa oethe</td>\n",
       "    </tr>\n",
       "    <tr>\n",
       "      <th>2</th>\n",
       "      <td>Tom's working.</td>\n",
       "      <td>tom bishi kaam kure</td>\n",
       "    </tr>\n",
       "    <tr>\n",
       "      <th>3</th>\n",
       "      <td>Tom's wounded.</td>\n",
       "      <td>tom jokhom baina ase</td>\n",
       "    </tr>\n",
       "    <tr>\n",
       "      <th>4</th>\n",
       "      <td>Try to resist.</td>\n",
       "      <td>resist kurivole try kurivi</td>\n",
       "    </tr>\n",
       "  </tbody>\n",
       "</table>\n",
       "</div>"
      ],
      "text/plain": [
       "          English                    Nagamese\n",
       "0  Tom's unarmed.    tom la haat dey eiku nai\n",
       "1  Tom's violent.      tom bishi khussa oethe\n",
       "2  Tom's working.         tom bishi kaam kure\n",
       "3  Tom's wounded.        tom jokhom baina ase\n",
       "4  Try to resist.  resist kurivole try kurivi"
      ]
     },
     "execution_count": 6,
     "metadata": {},
     "output_type": "execute_result"
    }
   ],
   "source": [
    "data.head()"
   ]
  },
  {
   "cell_type": "code",
   "execution_count": 7,
   "id": "0960a13e-4d36-4725-bae3-3a1a417c2653",
   "metadata": {},
   "outputs": [],
   "source": [
    "df = data.copy()"
   ]
  },
  {
   "cell_type": "code",
   "execution_count": 8,
   "id": "db23e507-bb86-43a5-b92c-13bee98c2b4c",
   "metadata": {},
   "outputs": [
    {
     "data": {
      "text/html": [
       "<div>\n",
       "<style scoped>\n",
       "    .dataframe tbody tr th:only-of-type {\n",
       "        vertical-align: middle;\n",
       "    }\n",
       "\n",
       "    .dataframe tbody tr th {\n",
       "        vertical-align: top;\n",
       "    }\n",
       "\n",
       "    .dataframe thead th {\n",
       "        text-align: right;\n",
       "    }\n",
       "</style>\n",
       "<table border=\"1\" class=\"dataframe\">\n",
       "  <thead>\n",
       "    <tr style=\"text-align: right;\">\n",
       "      <th></th>\n",
       "      <th>English</th>\n",
       "      <th>Nagamese</th>\n",
       "    </tr>\n",
       "  </thead>\n",
       "  <tbody>\n",
       "    <tr>\n",
       "      <th>0</th>\n",
       "      <td>Tom's unarmed.</td>\n",
       "      <td>tom la haat dey eiku nai</td>\n",
       "    </tr>\n",
       "    <tr>\n",
       "      <th>1</th>\n",
       "      <td>Tom's violent.</td>\n",
       "      <td>tom bishi khussa oethe</td>\n",
       "    </tr>\n",
       "    <tr>\n",
       "      <th>2</th>\n",
       "      <td>Tom's working.</td>\n",
       "      <td>tom bishi kaam kure</td>\n",
       "    </tr>\n",
       "    <tr>\n",
       "      <th>3</th>\n",
       "      <td>Tom's wounded.</td>\n",
       "      <td>tom jokhom baina ase</td>\n",
       "    </tr>\n",
       "    <tr>\n",
       "      <th>4</th>\n",
       "      <td>Try to resist.</td>\n",
       "      <td>resist kurivole try kurivi</td>\n",
       "    </tr>\n",
       "  </tbody>\n",
       "</table>\n",
       "</div>"
      ],
      "text/plain": [
       "          English                    Nagamese\n",
       "0  Tom's unarmed.    tom la haat dey eiku nai\n",
       "1  Tom's violent.      tom bishi khussa oethe\n",
       "2  Tom's working.         tom bishi kaam kure\n",
       "3  Tom's wounded.        tom jokhom baina ase\n",
       "4  Try to resist.  resist kurivole try kurivi"
      ]
     },
     "execution_count": 8,
     "metadata": {},
     "output_type": "execute_result"
    }
   ],
   "source": [
    "df.head()\n"
   ]
  },
  {
   "cell_type": "code",
   "execution_count": 9,
   "id": "dd064337-db05-4437-8046-e97ef22751b6",
   "metadata": {},
   "outputs": [],
   "source": [
    "df.columns = ['English', 'Nagamese']"
   ]
  },
  {
   "cell_type": "code",
   "execution_count": 10,
   "id": "fc4d03ac-8068-4635-80cf-cb42149ca530",
   "metadata": {},
   "outputs": [
    {
     "data": {
      "text/html": [
       "<div>\n",
       "<style scoped>\n",
       "    .dataframe tbody tr th:only-of-type {\n",
       "        vertical-align: middle;\n",
       "    }\n",
       "\n",
       "    .dataframe tbody tr th {\n",
       "        vertical-align: top;\n",
       "    }\n",
       "\n",
       "    .dataframe thead th {\n",
       "        text-align: right;\n",
       "    }\n",
       "</style>\n",
       "<table border=\"1\" class=\"dataframe\">\n",
       "  <thead>\n",
       "    <tr style=\"text-align: right;\">\n",
       "      <th></th>\n",
       "      <th>English</th>\n",
       "      <th>Nagamese</th>\n",
       "    </tr>\n",
       "  </thead>\n",
       "  <tbody>\n",
       "    <tr>\n",
       "      <th>0</th>\n",
       "      <td>Tom's unarmed.</td>\n",
       "      <td>tom la haat dey eiku nai</td>\n",
       "    </tr>\n",
       "    <tr>\n",
       "      <th>1</th>\n",
       "      <td>Tom's violent.</td>\n",
       "      <td>tom bishi khussa oethe</td>\n",
       "    </tr>\n",
       "    <tr>\n",
       "      <th>2</th>\n",
       "      <td>Tom's working.</td>\n",
       "      <td>tom bishi kaam kure</td>\n",
       "    </tr>\n",
       "    <tr>\n",
       "      <th>3</th>\n",
       "      <td>Tom's wounded.</td>\n",
       "      <td>tom jokhom baina ase</td>\n",
       "    </tr>\n",
       "    <tr>\n",
       "      <th>4</th>\n",
       "      <td>Try to resist.</td>\n",
       "      <td>resist kurivole try kurivi</td>\n",
       "    </tr>\n",
       "  </tbody>\n",
       "</table>\n",
       "</div>"
      ],
      "text/plain": [
       "          English                    Nagamese\n",
       "0  Tom's unarmed.    tom la haat dey eiku nai\n",
       "1  Tom's violent.      tom bishi khussa oethe\n",
       "2  Tom's working.         tom bishi kaam kure\n",
       "3  Tom's wounded.        tom jokhom baina ase\n",
       "4  Try to resist.  resist kurivole try kurivi"
      ]
     },
     "execution_count": 10,
     "metadata": {},
     "output_type": "execute_result"
    }
   ],
   "source": [
    "df.head()"
   ]
  },
  {
   "cell_type": "code",
   "execution_count": 11,
   "id": "8ff1049a-ea2c-4881-b7c8-375b0985027b",
   "metadata": {},
   "outputs": [],
   "source": [
    "df = df.dropna()\n"
   ]
  },
  {
   "cell_type": "code",
   "execution_count": 12,
   "id": "efe1e4d2-7e30-4901-b645-ed626ed45bd2",
   "metadata": {},
   "outputs": [],
   "source": [
    "train, test = train_test_split(df, test_size=0.1, random_state=42)\n",
    "\n",
    "# Save the datasets to files\n",
    "train.to_csv(\"train.csv\", index=False)\n",
    "test.to_csv(\"val.csv\", index=False)"
   ]
  },
  {
   "cell_type": "code",
   "execution_count": 13,
   "id": "7e8d3f26-2fd5-4df0-842c-3281a9353c53",
   "metadata": {},
   "outputs": [
    {
     "data": {
      "text/plain": [
       "pandas.core.series.Series"
      ]
     },
     "execution_count": 13,
     "metadata": {},
     "output_type": "execute_result"
    }
   ],
   "source": [
    "train['English']\n",
    "type(train['English'])"
   ]
  },
  {
   "cell_type": "code",
   "execution_count": 14,
   "id": "17b8f3cb-c8fb-42b5-a35f-dc145e089b56",
   "metadata": {},
   "outputs": [
    {
     "data": {
      "text/plain": [
       "pandas.core.series.Series"
      ]
     },
     "execution_count": 14,
     "metadata": {},
     "output_type": "execute_result"
    }
   ],
   "source": [
    "train['Nagamese']\n",
    "type(train['Nagamese'])"
   ]
  },
  {
   "cell_type": "code",
   "execution_count": 15,
   "id": "fd83fbb4-d14c-4a7f-9774-c3d376fb4e9d",
   "metadata": {},
   "outputs": [],
   "source": [
    "# Convert the series to lists\n",
    "train_english_sentences = train['English'].tolist()\n",
    "train_nagamese_sentences = train['Nagamese'].tolist()\n",
    "val_english_sentences = test['English'].tolist()\n",
    "val_nagamese_sentences = test['Nagamese'].tolist()"
   ]
  },
  {
   "cell_type": "code",
   "execution_count": 16,
   "id": "b61bcb78-1d66-431c-ac8b-9ec968beb20c",
   "metadata": {},
   "outputs": [
    {
     "name": "stdout",
     "output_type": "stream",
     "text": [
      "WARNING:tensorflow:From C:\\Python310\\lib\\site-packages\\keras\\src\\losses.py:2976: The name tf.losses.sparse_softmax_cross_entropy is deprecated. Please use tf.compat.v1.losses.sparse_softmax_cross_entropy instead.\n",
      "\n"
     ]
    }
   ],
   "source": [
    "import tensorflow as tf\n",
    "from tensorflow.keras.preprocessing.text import Tokenizer\n",
    "from tensorflow.keras.preprocessing.sequence import pad_sequences"
   ]
  },
  {
   "cell_type": "code",
   "execution_count": 17,
   "id": "875bf60c-1972-4220-ad56-f7bb7c4ddf5c",
   "metadata": {},
   "outputs": [],
   "source": [
    "# Tokenize the text data\n",
    "def tokenize_text(texts, num_words=None):\n",
    "    tokenizer = Tokenizer(num_words=num_words, oov_token='<unk>')\n",
    "    tokenizer.fit_on_texts(texts)\n",
    "    return tokenizer"
   ]
  },
  {
   "cell_type": "code",
   "execution_count": 18,
   "id": "c747c5e3-885e-4763-a989-8740f5e72396",
   "metadata": {},
   "outputs": [],
   "source": [
    "# Convert text sequences into numerical sequences\n",
    "def sequences(tokenizer, texts, maxlen):\n",
    "    sequences = tokenizer.texts_to_sequences(texts)\n",
    "    return pad_sequences(sequences, maxlen=maxlen, padding='post')\n"
   ]
  },
  {
   "cell_type": "code",
   "execution_count": 19,
   "id": "9a56f75d-8411-4a1f-a3ee-09782d7777d0",
   "metadata": {},
   "outputs": [],
   "source": [
    "# English Tokenization\n",
    "english_tokenizer = tokenize_text(train_english_sentences)\n",
    "eng_vocab_size = len(english_tokenizer.word_index) + 1\n",
    "eng_maxlen = max(len(line.split()) for line in train_english_sentences)"
   ]
  },
  {
   "cell_type": "code",
   "execution_count": 20,
   "id": "33b7f831-1f62-444d-b9fb-a0466a0b5a04",
   "metadata": {},
   "outputs": [],
   "source": [
    "# Nagamese Tokenization\n",
    "nagamese_tokenizer = tokenize_text(train_nagamese_sentences)\n",
    "nag_vocab_size = len(nagamese_tokenizer.word_index) + 1\n",
    "nag_maxlen = max(len(str(line).split()) for line in train_nagamese_sentences)"
   ]
  },
  {
   "cell_type": "code",
   "execution_count": 21,
   "id": "71f54fd7-0bf1-4e5f-80e1-bcb2770ff30f",
   "metadata": {},
   "outputs": [],
   "source": [
    "# Prepare training data\n",
    "X_train = sequences(nagamese_tokenizer, train_nagamese_sentences, nag_maxlen)\n",
    "y_train = sequences(english_tokenizer, train_english_sentences, eng_maxlen)\n",
    "\n",
    "# Prepare validation data\n",
    "X_val = sequences(nagamese_tokenizer, val_nagamese_sentences, nag_maxlen)\n",
    "y_val = sequences(english_tokenizer, val_english_sentences, eng_maxlen)"
   ]
  },
  {
   "cell_type": "code",
   "execution_count": 22,
   "id": "b9f85171-87f5-45ef-bcbe-d55746559094",
   "metadata": {},
   "outputs": [],
   "source": [
    "from tensorflow.keras.models import Sequential\n",
    "from tensorflow.keras.layers import Embedding, LSTM, Dense, Dropout, Bidirectional, RepeatVector\n"
   ]
  },
  {
   "cell_type": "code",
   "execution_count": 23,
   "id": "e4ac8350-eec9-4714-9058-23f480ebe84e",
   "metadata": {},
   "outputs": [],
   "source": [
    "def build_model(src_vocab, tar_vocab, src_timesteps, tar_timesteps, n_units):\n",
    "    model = Sequential()\n",
    "    model.add(Embedding(src_vocab, n_units, input_length=src_timesteps, mask_zero=True))\n",
    "    model.add(Bidirectional(LSTM(n_units)))\n",
    "    model.add(Dropout(0.2))\n",
    "    model.add(RepeatVector(tar_timesteps))\n",
    "    model.add(Bidirectional(LSTM(n_units, return_sequences=True)))\n",
    "    model.add(Dropout(0.2))\n",
    "    model.add(Dense(tar_vocab, activation='softmax'))\n",
    "    return model"
   ]
  },
  {
   "cell_type": "code",
   "execution_count": 24,
   "id": "e168d073-ec4f-4997-9085-b603c436c361",
   "metadata": {},
   "outputs": [
    {
     "name": "stdout",
     "output_type": "stream",
     "text": [
      "WARNING:tensorflow:From C:\\Python310\\lib\\site-packages\\keras\\src\\backend.py:873: The name tf.get_default_graph is deprecated. Please use tf.compat.v1.get_default_graph instead.\n",
      "\n",
      "WARNING:tensorflow:From C:\\Python310\\lib\\site-packages\\keras\\src\\optimizers\\__init__.py:309: The name tf.train.Optimizer is deprecated. Please use tf.compat.v1.train.Optimizer instead.\n",
      "\n",
      "Model: \"sequential\"\n",
      "_________________________________________________________________\n",
      " Layer (type)                Output Shape              Param #   \n",
      "=================================================================\n",
      " embedding (Embedding)       (None, 8, 256)            199424    \n",
      "                                                                 \n",
      " bidirectional (Bidirection  (None, 512)               1050624   \n",
      " al)                                                             \n",
      "                                                                 \n",
      " dropout (Dropout)           (None, 512)               0         \n",
      "                                                                 \n",
      " repeat_vector (RepeatVecto  (None, 5, 512)            0         \n",
      " r)                                                              \n",
      "                                                                 \n",
      " bidirectional_1 (Bidirecti  (None, 5, 512)            1574912   \n",
      " onal)                                                           \n",
      "                                                                 \n",
      " dropout_1 (Dropout)         (None, 5, 512)            0         \n",
      "                                                                 \n",
      " dense (Dense)               (None, 5, 804)            412452    \n",
      "                                                                 \n",
      "=================================================================\n",
      "Total params: 3237412 (12.35 MB)\n",
      "Trainable params: 3237412 (12.35 MB)\n",
      "Non-trainable params: 0 (0.00 Byte)\n",
      "_________________________________________________________________\n",
      "None\n"
     ]
    }
   ],
   "source": [
    "n_units = 256\n",
    "\n",
    "# Build the model\n",
    "model = build_model(nag_vocab_size, eng_vocab_size, nag_maxlen, eng_maxlen, n_units)\n",
    "model.compile(optimizer='adam', loss='sparse_categorical_crossentropy', metrics=['accuracy'])\n",
    "print(model.summary())"
   ]
  },
  {
   "cell_type": "code",
   "execution_count": 33,
   "id": "5be14cb2-586b-4f68-bc42-f8d4c69e2c4d",
   "metadata": {},
   "outputs": [
    {
     "name": "stdout",
     "output_type": "stream",
     "text": [
      "Epoch 1/20\n",
      "7/7 [==============================] - 2s 326ms/step - loss: 3.4659 - accuracy: 0.4298 - val_loss: 3.8505 - val_accuracy: 0.4364\n",
      "Epoch 2/20\n",
      "7/7 [==============================] - 2s 305ms/step - loss: 3.4125 - accuracy: 0.4298 - val_loss: 3.8794 - val_accuracy: 0.4364\n",
      "Epoch 3/20\n",
      "7/7 [==============================] - 2s 316ms/step - loss: 3.3658 - accuracy: 0.4303 - val_loss: 3.8538 - val_accuracy: 0.4384\n",
      "Epoch 4/20\n",
      "7/7 [==============================] - 2s 319ms/step - loss: 3.3379 - accuracy: 0.4325 - val_loss: 3.8559 - val_accuracy: 0.4364\n",
      "Epoch 5/20\n",
      "7/7 [==============================] - 2s 319ms/step - loss: 3.3125 - accuracy: 0.4325 - val_loss: 3.8540 - val_accuracy: 0.4384\n",
      "Epoch 6/20\n",
      "7/7 [==============================] - 2s 323ms/step - loss: 3.2748 - accuracy: 0.4339 - val_loss: 3.8338 - val_accuracy: 0.4404\n",
      "Epoch 7/20\n",
      "7/7 [==============================] - 2s 324ms/step - loss: 3.2413 - accuracy: 0.4375 - val_loss: 3.8260 - val_accuracy: 0.4404\n",
      "Epoch 8/20\n",
      "7/7 [==============================] - 2s 320ms/step - loss: 3.2074 - accuracy: 0.4384 - val_loss: 3.8238 - val_accuracy: 0.4424\n",
      "Epoch 9/20\n",
      "7/7 [==============================] - 2s 322ms/step - loss: 3.1760 - accuracy: 0.4411 - val_loss: 3.8199 - val_accuracy: 0.4424\n",
      "Epoch 10/20\n",
      "7/7 [==============================] - 2s 319ms/step - loss: 3.1416 - accuracy: 0.4418 - val_loss: 3.8303 - val_accuracy: 0.4485\n",
      "Epoch 11/20\n",
      "7/7 [==============================] - 2s 310ms/step - loss: 3.1000 - accuracy: 0.4554 - val_loss: 3.8304 - val_accuracy: 0.4566\n",
      "Epoch 12/20\n",
      "7/7 [==============================] - 2s 322ms/step - loss: 3.0533 - accuracy: 0.4644 - val_loss: 3.8158 - val_accuracy: 0.4586\n",
      "Epoch 13/20\n",
      "7/7 [==============================] - 2s 310ms/step - loss: 3.0021 - accuracy: 0.4730 - val_loss: 3.8246 - val_accuracy: 0.4586\n",
      "Epoch 14/20\n",
      "7/7 [==============================] - 2s 319ms/step - loss: 2.9470 - accuracy: 0.4868 - val_loss: 3.8296 - val_accuracy: 0.4626\n",
      "Epoch 15/20\n",
      "7/7 [==============================] - 2s 328ms/step - loss: 2.8895 - accuracy: 0.4927 - val_loss: 3.8560 - val_accuracy: 0.4646\n",
      "Epoch 16/20\n",
      "7/7 [==============================] - 2s 328ms/step - loss: 2.8312 - accuracy: 0.4976 - val_loss: 3.8840 - val_accuracy: 0.4626\n",
      "Epoch 17/20\n",
      "7/7 [==============================] - 2s 312ms/step - loss: 2.7597 - accuracy: 0.5006 - val_loss: 3.8764 - val_accuracy: 0.4768\n",
      "Epoch 18/20\n",
      "7/7 [==============================] - 2s 325ms/step - loss: 2.6778 - accuracy: 0.5141 - val_loss: 3.8956 - val_accuracy: 0.4727\n",
      "Epoch 19/20\n",
      "7/7 [==============================] - 2s 311ms/step - loss: 2.6043 - accuracy: 0.5241 - val_loss: 3.9437 - val_accuracy: 0.4727\n",
      "Epoch 20/20\n",
      "7/7 [==============================] - 2s 317ms/step - loss: 2.5291 - accuracy: 0.5297 - val_loss: 3.9732 - val_accuracy: 0.4788\n"
     ]
    }
   ],
   "source": [
    "history = model.fit(X_train, y_train.reshape(y_train.shape[0], y_train.shape[1], 1),\n",
    "                    epochs=20, batch_size=128, \n",
    "                    validation_data=(X_val, y_val.reshape(y_val.shape[0], y_val.shape[1], 1)))"
   ]
  },
  {
   "cell_type": "code",
   "execution_count": 26,
   "id": "c8375ea6-2efc-4b89-b61e-7ae8d9d20fee",
   "metadata": {},
   "outputs": [],
   "source": [
    "import matplotlib.pyplot as plt"
   ]
  },
  {
   "cell_type": "code",
   "execution_count": 34,
   "id": "31ce5c36-5cd4-4e8b-8f68-52daf21afc08",
   "metadata": {},
   "outputs": [
    {
     "data": {
      "image/png": "[encoded data removed]",
      "text/plain": [
       "<Figure size 640x480 with 1 Axes>"
      ]
     },
     "metadata": {},
     "output_type": "display_data"
    }
   ],
   "source": [
    "# Plot training & validation accuracy values\n",
    "plt.plot(history.history['accuracy'])\n",
    "plt.plot(history.history['val_accuracy'])\n",
    "plt.title('Model accuracy')\n",
    "plt.ylabel('Accuracy')\n",
    "plt.xlabel('Epoch')\n",
    "plt.legend(['Train', 'Validation'], loc='upper left')\n",
    "plt.show()\n"
   ]
  },
  {
   "cell_type": "code",
   "execution_count": 35,
   "id": "bcd07fe0-b62d-4921-9271-2ae10ce05815",
   "metadata": {},
   "outputs": [
    {
     "data": {
      "image/png": "[encoded data removed]",
      "text/plain": [
       "<Figure size 640x480 with 1 Axes>"
      ]
     },
     "metadata": {},
     "output_type": "display_data"
    }
   ],
   "source": [
    "# Plot training & validation loss values\n",
    "plt.plot(history.history['loss'])\n",
    "plt.plot(history.history['val_loss'])\n",
    "plt.title('Model loss')\n",
    "plt.ylabel('Loss')\n",
    "plt.xlabel('Epoch')\n",
    "plt.legend(['Train', 'Validation'], loc='upper left')\n",
    "plt.show()"
   ]
  },
  {
   "cell_type": "code",
   "execution_count": 30,
   "id": "454df1ce-11cd-4563-8455-8f501221c736",
   "metadata": {},
   "outputs": [],
   "source": [
    "import numpy as np"
   ]
  },
  {
   "cell_type": "code",
   "execution_count": 29,
   "id": "498dfebc-a66f-497b-92fa-1ba3edb56570",
   "metadata": {},
   "outputs": [],
   "source": [
    "def translate_sentence(model, tokenizer, sentence, max_length):\n",
    "    # Tokenize the sentence\n",
    "    sentence = sentence.lower()\n",
    "    sentence = [tokenizer.word_index[word] if word in tokenizer.word_index else tokenizer.word_index['<unk>'] for word in sentence.split(' ')]\n",
    "    # Pad the sequence\n",
    "    sentence = pad_sequences([sentence], maxlen=max_length, padding='post')\n",
    "    # Get the prediction\n",
    "    prediction = model.predict(sentence, verbose=0)\n",
    "    # Get the index with the highest probability\n",
    "    prediction = np.argmax(prediction, axis=-1)\n",
    "    # Decode the prediction\n",
    "    predicted_sentence = ''\n",
    "    for index in prediction[0]:\n",
    "        if index == 0:\n",
    "            break\n",
    "        word = tokenizer.index_word[index]\n",
    "        predicted_sentence += word + ' '\n",
    "    return predicted_sentence"
   ]
  },
  {
   "cell_type": "code",
   "execution_count": 32,
   "id": "d2ab57be-f26e-45f8-8848-d383d2881b2b",
   "metadata": {},
   "outputs": [
    {
     "name": "stdout",
     "output_type": "stream",
     "text": [
      "i i \n"
     ]
    }
   ],
   "source": [
    "# Example Translation\n",
    "sentence = \"Tom's unarmed\"\n",
    "translated_sentence = translate_sentence(model, english_tokenizer, sentence, nag_maxlen)\n",
    "print(translated_sentence)"
   ]
  },
  {
   "cell_type": "code",
   "execution_count": null,
   "id": "d57e0cf0-42c8-44d5-8e94-605d0b0a869a",
   "metadata": {},
   "outputs": [],
   "source": []
  }
 ],
 "metadata": {
  "kernelspec": {
   "display_name": "Python 3 (ipykernel)",
   "language": "python",
   "name": "python3"
  },
  "language_info": {
   "codemirror_mode": {
    "name": "ipython",
    "version": 3
   },
   "file_extension": ".py",
   "mimetype": "text/x-python",
   "name": "python",
   "nbconvert_exporter": "python",
   "pygments_lexer": "ipython3",
   "version": "3.10.6"
  }
 },
 "nbformat": 4,
 "nbformat_minor": 5
}
