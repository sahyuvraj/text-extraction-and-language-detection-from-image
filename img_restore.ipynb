{
 "cells": [
  {
   "cell_type": "code",
   "execution_count": null,
   "id": "00808a8d-0bfe-40d1-991e-62e403e67cd5",
   "metadata": {},
   "outputs": [],
   "source": [
    "pip install pytesseract\n"
   ]
  },
  {
   "cell_type": "code",
   "execution_count": null,
   "id": "2e97894e-cb12-4a5a-96da-221d90e5a59b",
   "metadata": {},
   "outputs": [],
   "source": [
    "pip install opencv-python"
   ]
  },
  {
   "cell_type": "code",
   "execution_count": null,
   "id": "93f9d6e0-f73b-47ff-881d-cba0d5d4fd15",
   "metadata": {},
   "outputs": [],
   "source": [
    "pip install matplotlib"
   ]
  },
  {
   "cell_type": "code",
   "execution_count": 1,
   "id": "bb54cbf0-9005-4183-8ac8-0e6ffaac509b",
   "metadata": {},
   "outputs": [],
   "source": [
    "if __name__ == '__main__':\n",
    "    import pytesseract\n",
    "    import cv2\n",
    "    from matplotlib import pyplot as plt\n",
    "    from PIL import Image\n",
    "    import os\n",
    "    import numpy as np"
   ]
  },
  {
   "cell_type": "code",
   "execution_count": 3,
   "id": "b96ba835-3469-4ea7-9f3b-e86cd990c1fc",
   "metadata": {},
   "outputs": [],
   "source": [
    "def show_image(img_path, size=(500, 500)):\n",
    "    image = cv2.imread(img_path)\n",
    "    image = cv2.resize(image, size)\n",
    "    cv2.imshow(\"IMAGE\", image)\n",
    "    cv2.waitKey(0)\n",
    "    cv2.destroyAllWindows()\n",
    "show_image(\"C:/Users/hp/Desktop/jupyter/test images/letter-1.png\")"
   ]
  },
  {
   "cell_type": "code",
   "execution_count": 7,
   "id": "b0cffce2-9a38-41e8-945f-2599f29b57ae",
   "metadata": {},
   "outputs": [],
   "source": [
    "pytesseract.pytesseract.tesseract_cmd = r\"C:\\Program Files\\Tesseract-OCR\\tesseract.exe\""
   ]
  },
  {
   "cell_type": "code",
   "execution_count": 6,
   "id": "eaa51d5a-11a5-4b87-9166-687974fd620d",
   "metadata": {},
   "outputs": [],
   "source": [
    "def extract_text(img):\n",
    "    # image_path = test_image_files[img_no]\n",
    "    # path = create_path(image_path)\n",
    "\n",
    "    # image = Image.open(path)\n",
    "    text = pytesseract.image_to_string(img)\n",
    "    print(text)\n",
    "    return text\n",
    "    \n",
    "    \n",
    "# text = extract_text(12)"
   ]
  },
  {
   "cell_type": "code",
   "execution_count": 16,
   "id": "ed44beb3-0023-4687-b017-9c0c65ad9f52",
   "metadata": {},
   "outputs": [
    {
     "name": "stdout",
     "output_type": "stream",
     "text": [
      "Dear David,\n",
      "It's_been_a long time_since_we_saw_each.\n",
      "Totter Do-you-rremember-when-we-met-\n",
      "in September, ZOZO in Toronto?\n",
      "\n",
      "Well_so much has happened since then _\n",
      "—and- tm-writing-to-tell-you-about-my ®\n",
      "\n",
      "(es\n",
      "\n",
      "with\n",
      "\n",
      "Jonathan\n",
      "—\n",
      "\n"
     ]
    }
   ],
   "source": [
    "def restored_img(img_path):\n",
    "    img = cv2.imread(img_path)   # Load the degraded image\n",
    "    cv2.imshow(\"degrade IMAGE\", img)\n",
    "    cv2.waitKey(0)\n",
    "    cv2.destroyAllWindows()\n",
    "\n",
    "    gray_img = cv2.cvtColor(img, cv2.COLOR_BGR2GRAY) # Convert the image to grayscale\n",
    "    \n",
    "    # denoised_img = cv2.GaussianBlur(gray_img, (3, 3), 0) # Use to reduce noise\n",
    "    # blur = cv2.medianBlur(img, 3)\n",
    "    #sharpened_gray = cv2.filter2D(gray_img, cv2.CV_8UC1, np.array([[1, 0, -1], [0, 5, 0], [-1, 0, 1]]))\n",
    "\n",
    "    \n",
    "    # thresh, binary = cv2.threshold(denoised_img, 0, 255, cv2.THRESH_BINARY + cv2.THRESH_OTSU)\n",
    "    adaptive_result = cv2.adaptiveThreshold(gray_img, 255, cv2.ADAPTIVE_THRESH_GAUSSIAN_C, cv2.THRESH_BINARY, 41, 5)\n",
    "\n",
    "    kernel = cv2.getStructuringElement(cv2.MORPH_RECT, (1, 1))\n",
    "    dilated = cv2.dilate(adaptive_result, kernel)\n",
    "    eroded = cv2.erode(dilated, kernel)\n",
    "    opened = cv2.morphologyEx(eroded, cv2.MORPH_OPEN, kernel)\n",
    "    closed = cv2.morphologyEx(opened, cv2.MORPH_CLOSE, kernel)\n",
    "   \n",
    "    \n",
    "    cv2.imshow(\"restoreIMAGE\", dilated)\n",
    "    cv2.waitKey(0)\n",
    "    cv2.destroyAllWindows()\n",
    "    return closed\n",
    "\n",
    "\n",
    "restored_image = restored_img(r\"C:\\Users\\hp\\Desktop\\jupyter\\test images\\letter-1.png\")\n",
    "text = extract_text(restored_image)"
   ]
  },
  {
   "cell_type": "code",
   "execution_count": null,
   "id": "b5ea211c-44eb-4d2f-8cf3-ebf92f95545a",
   "metadata": {},
   "outputs": [],
   "source": []
  }
 ],
 "metadata": {
  "kernelspec": {
   "display_name": "Python 3 (ipykernel)",
   "language": "python",
   "name": "python3"
  },
  "language_info": {
   "codemirror_mode": {
    "name": "ipython",
    "version": 3
   },
   "file_extension": ".py",
   "mimetype": "text/x-python",
   "name": "python",
   "nbconvert_exporter": "python",
   "pygments_lexer": "ipython3",
   "version": "3.10.6"
  }
 },
 "nbformat": 4,
 "nbformat_minor": 5
}
